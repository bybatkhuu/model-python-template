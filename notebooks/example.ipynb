{
 "cells": [
  {
   "cell_type": "code",
   "execution_count": 1,
   "metadata": {},
   "outputs": [],
   "source": [
    "# Importing the necessary libraries\n",
    "%load_ext autoreload\n",
    "%autoreload 2\n",
    "\n",
    "## Standard libraries\n",
    "import os\n",
    "import sys\n",
    "import logging\n",
    "import pathlib\n",
    "from typing import Any\n",
    "\n",
    "## Third-party libraries\n",
    "import numpy as np\n",
    "from numpy.typing import NDArray\n",
    "\n",
    "## Internal modules\n",
    "from simple_model import SimpleModel\n",
    "\n",
    "\n",
    "logger = logging.getLogger(__name__)"
   ]
  },
  {
   "cell_type": "code",
   "execution_count": 2,
   "metadata": {},
   "outputs": [],
   "source": [
    "# Pre-defined variables (for customizing and testing)\n",
    "\n",
    "logging.basicConfig(\n",
    "\tstream=sys.stdout,\n",
    "\tlevel=logging.INFO,\n",
    "\tdatefmt=\"%Y-%m-%d %H:%M:%S %z\",\n",
    "\tformat=\"[%(asctime)s | %(levelname)s | %(filename)s:%(lineno)d]: %(message)s\",\n",
    ")\n",
    "\n",
    "_parent_dir = pathlib.Path().resolve()\n",
    "_models_dir = str(_parent_dir.parent / \"models\")\n",
    "\n",
    "if not os.path.isdir(_models_dir):\n",
    "    os.makedirs(_models_dir, exist_ok=True)\n",
    "\n",
    "_model_name = \"linear_regression.v0.0.1-240101\"\n",
    "\n",
    "_X_train = np.array([[1], [2], [3], [4], [5]])\n",
    "_y_train = np.array([2, 4, 6, 8, 10])\n",
    "\n",
    "_X_test = np.array([[6], [7], [8]])\n",
    "_y_test = np.array([10, 14, 16])"
   ]
  },
  {
   "cell_type": "code",
   "execution_count": 3,
   "metadata": {},
   "outputs": [],
   "source": [
    "# Create the model instance\n",
    "\n",
    "_config = {\"models_dir\": _models_dir, \"model_name\": _model_name}\n",
    "_model = SimpleModel(config=_config)"
   ]
  },
  {
   "cell_type": "code",
   "execution_count": 4,
   "metadata": {},
   "outputs": [
    {
     "name": "stdout",
     "output_type": "stream",
     "text": [
      "[2024-12-26 23:16:39 +0900 | INFO | _base.py:142]: Training model...\n",
      "[2024-12-26 23:16:39 +0900 | INFO | _base.py:144]: Successfully trained the model.\n"
     ]
    }
   ],
   "source": [
    "# Train or load the model\n",
    "\n",
    "if not SimpleModel.is_model_files_exist(**_config):\n",
    "\t_model.train(X=_X_train, y=_y_train)\n",
    "else:\n",
    "\t_model.load()"
   ]
  },
  {
   "cell_type": "code",
   "execution_count": 5,
   "metadata": {},
   "outputs": [
    {
     "name": "stdout",
     "output_type": "stream",
     "text": [
      "[2024-12-26 23:16:40 +0900 | INFO | 1057707116.py:4]: Predicted values for [6 7 8]: [12. 14. 16.]\n"
     ]
    }
   ],
   "source": [
    "# Predict the target values\n",
    "\n",
    "_y_pred: NDArray[Any] = _model.predict(X=_X_test)\n",
    "logger.info(f\"Predicted values for {_X_test.flatten()}: {_y_pred.flatten()}\")"
   ]
  },
  {
   "cell_type": "code",
   "execution_count": 6,
   "metadata": {},
   "outputs": [
    {
     "name": "stdout",
     "output_type": "stream",
     "text": [
      "[2024-12-26 23:16:41 +0900 | INFO | 2711619361.py:4]: R^2 score: 0.7857142857142854\n",
      "[2024-12-26 23:16:41 +0900 | INFO | 2711619361.py:7]: Is similar: True\n"
     ]
    }
   ],
   "source": [
    "# Evaluate the model\n",
    "\n",
    "_r2_score: float = _model.score(y_true=_y_test, y_pred=_y_pred)\n",
    "logger.info(f\"R^2 score: {_r2_score}\")\n",
    "\n",
    "_is_similar: bool = _model.is_similar(X=_X_test, y=_y_test)\n",
    "logger.info(f\"Is similar: {_is_similar}\")"
   ]
  },
  {
   "cell_type": "code",
   "execution_count": 7,
   "metadata": {},
   "outputs": [
    {
     "name": "stdout",
     "output_type": "stream",
     "text": [
      "[2024-12-26 23:16:42 +0900 | INFO | _base.py:235]: Saving 'linear_regression.v0.0.1-240101' model files...\n",
      "[2024-12-26 23:16:42 +0900 | INFO | _base.py:248]: Successfully saved 'linear_regression.v0.0.1-240101' model files.\n",
      "[2024-12-26 23:16:42 +0900 | INFO | 2282605360.py:6]: Done.\n"
     ]
    }
   ],
   "source": [
    "# Save the model\n",
    "\n",
    "if _model.is_trained() and (not SimpleModel.is_model_files_exist(**_config)):\n",
    "\t_model.save()\n",
    "\n",
    "logger.info(\"Done!\\n\")"
   ]
  }
 ],
 "metadata": {
  "kernelspec": {
   "display_name": "model-temp",
   "language": "python",
   "name": "python3"
  },
  "language_info": {
   "codemirror_mode": {
    "name": "ipython",
    "version": 3
   },
   "file_extension": ".py",
   "mimetype": "text/x-python",
   "name": "python",
   "nbconvert_exporter": "python",
   "pygments_lexer": "ipython3",
   "version": "3.9.21"
  }
 },
 "nbformat": 4,
 "nbformat_minor": 2
}
